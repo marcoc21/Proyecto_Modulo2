{
 "cells": [
  {
   "cell_type": "markdown",
   "metadata": {},
   "source": [
    "Proyecto Modulo2 (Optimización de portafolio de inversión)\n",
    "=================\n",
    "\n",
    "\n",
    "**Problemática:**\n",
    "\n",
    "\n",
    "La toma de decisiones en cuanto a la mejor opción para comprar acciones o invertir, y en que proporciones, debido al riesgo y la alta volatilidad de el mercado de valores.\n",
    "\n",
    "\n",
    "**Objetivo General:**\n",
    "\n",
    "\n",
    "Comparar distintas acciones de empresas para armar un portafolio con un ratio optimo de menor riesgo y mejor pronostico en un futuro, para el crecimiento del valor evitando las perdidas. Todo por medio de simulacion montecarlo y Sharpe ratio.\n",
    "\n",
    "\n",
    "**Objetivos:**\n",
    "\n",
    "\n",
    "Hacer la simulación montecarlo, y aplicar la formula obteniendo asi las calificaciones del portafolio en cuanto a riesgo y ganancias esperadas\n",
    "\n",
    "\n",
    "**Resolución:**\n",
    "\n",
    "\n",
    "Se utilizaron los valor aleatorios de la simulacion montecarlo para obtener 1000 distintos escenarios con diferentes ratios de acciones, en las 4 compañias que se tomaron en consideracion: dos de compañias de bebidas y dos compañias de entretenimiento.\n",
    " \n",
    " \n",
    "**Conclusión:**\n",
    "\n",
    "Se puede obtuvo un portafolio con muy poco riesgo, pero para maximizar ganancias, sería mejor utilizar distinas acciones que hayan crecido mas el año pasado, para obtener un portafolio un poco mas riesgoso, pero con ganancias jugosas.\n"
   ]
  }
 ],
 "metadata": {
  "kernelspec": {
   "display_name": "Python 3",
   "language": "python",
   "name": "python3"
  },
  "language_info": {
   "codemirror_mode": {
    "name": "ipython",
    "version": 3
   },
   "file_extension": ".py",
   "mimetype": "text/x-python",
   "name": "python",
   "nbconvert_exporter": "python",
   "pygments_lexer": "ipython3",
   "version": "3.7.3"
  }
 },
 "nbformat": 4,
 "nbformat_minor": 2
}
