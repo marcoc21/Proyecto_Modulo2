{
 "cells": [
  {
   "cell_type": "code",
   "execution_count": 26,
   "metadata": {},
   "outputs": [],
   "source": [
    "\n",
    "import pandas as pd\n",
    "import numpy as np\n",
    "import pandas_datareader.data as web\n",
    "import matplotlib.pyplot as plt"
   ]
  },
  {
   "cell_type": "code",
   "execution_count": null,
   "metadata": {},
   "outputs": [],
   "source": []
  },
  {
   "cell_type": "code",
   "execution_count": 27,
   "metadata": {},
   "outputs": [],
   "source": [
    "stock = ['KO', 'PEP', 'NFLX', 'AMZN']\n",
    "data = web.DataReader(stock,data_source=\"yahoo\",start='12/01/2018',end='11/05/2019')['Adj Close']"
   ]
  },
  {
   "cell_type": "code",
   "execution_count": 28,
   "metadata": {},
   "outputs": [
    {
     "name": "stdout",
     "output_type": "stream",
     "text": [
      "Symbols        AMZN     KO    NFLX     PEP\n",
      "Date                                      \n",
      "2019-11-06  1795.77  52.80  288.59  134.44\n",
      "2019-11-05  1801.71  52.42  288.03  134.01\n",
      "2019-11-04  1804.66  53.14  292.86  135.16\n",
      "2019-11-01  1791.44  53.90  286.81  136.93\n",
      "2019-10-31  1776.66  54.43  287.41  137.17\n",
      "2019-10-30  1779.99  53.94  291.45  136.90\n",
      "2019-10-29  1762.71  53.41  281.21  136.08\n",
      "2019-10-28  1777.08  53.57  281.86  136.57\n",
      "2019-10-25  1761.33  53.75  276.82  136.64\n",
      "2019-10-24  1780.78  54.61  271.50  137.89\n",
      "2019-10-23  1762.17  54.64  271.27  137.45\n",
      "2019-10-22  1765.73  53.85  266.69  136.66\n",
      "2019-10-21  1785.66  54.23  278.05  136.12\n",
      "2019-10-18  1757.51  54.78  275.30  136.25\n",
      "2019-10-17  1787.48  53.79  293.35  136.96\n",
      "2019-10-16  1777.43  53.49  286.28  136.42\n",
      "2019-10-15  1767.38  53.51  284.25  136.33\n",
      "2019-10-14  1736.43  53.30  285.53  137.45\n",
      "2019-10-11  1731.92  53.30  282.93  137.64\n",
      "2019-10-10  1720.26  53.66  280.48  137.89\n",
      "2019-10-09  1721.99  53.83  267.53  137.85\n",
      "2019-10-08  1705.51  53.58  270.72  137.24\n",
      "2019-10-07  1732.66  53.87  274.46  138.34\n",
      "2019-10-04  1739.65  54.54  272.79  140.28\n",
      "2019-10-03  1724.42  53.84  268.15  137.93\n",
      "2019-10-02  1713.23  53.08  268.03  133.94\n",
      "2019-10-01  1735.65  54.65  269.58  137.37\n",
      "2019-09-30  1735.91  54.44  267.62  137.10\n",
      "2019-09-27  1725.45  54.31  263.08  135.60\n",
      "2019-09-26  1739.84  54.39  263.31  135.72\n",
      "...             ...    ...     ...     ...\n",
      "2019-01-16  1683.78  45.82  351.39  105.96\n",
      "2019-01-15  1674.56  46.45  354.64  106.59\n",
      "2019-01-14  1617.21  46.04  332.94  104.96\n",
      "2019-01-11  1640.56  46.23  337.59  105.78\n",
      "2019-01-10  1656.22  45.97  324.66  105.77\n",
      "2019-01-09  1659.42  45.48  319.96  105.12\n",
      "2019-01-08  1656.58  46.37  320.27  108.15\n",
      "2019-01-07  1629.51  45.85  315.34  107.12\n",
      "2019-01-04  1575.39  46.45  297.57  108.05\n",
      "2019-01-03  1500.28  45.55  271.20  105.88\n",
      "2019-01-02  1539.13  45.83  267.66  106.87\n",
      "2018-12-31  1501.97  46.24  267.66  108.05\n",
      "2018-12-28  1478.02  46.09  256.08  107.93\n",
      "2018-12-27  1461.64  46.41  255.57  107.01\n",
      "2018-12-26  1470.90  45.84  253.67  105.95\n",
      "2018-12-24  1343.96  44.88  233.88  103.70\n",
      "2018-12-21  1377.45  46.45  246.39  107.01\n",
      "2018-12-20  1460.83  46.42  260.58  107.78\n",
      "2018-12-19  1495.08  46.78  266.77  107.62\n",
      "2018-12-18  1551.48  47.19  270.94  109.38\n",
      "2018-12-17  1520.91  47.20  262.80  110.39\n",
      "2018-12-14  1591.91  48.18  266.84  111.44\n",
      "2018-12-13  1658.38  48.31  276.02  115.74\n",
      "2018-12-12  1663.54  48.06  274.88  114.42\n",
      "2018-12-11  1643.24  48.38  265.32  114.71\n",
      "2018-12-10  1641.03  48.08  269.70  113.63\n",
      "2018-12-07  1629.13  47.94  265.14  113.27\n",
      "2018-12-06  1699.19  48.22  282.88  114.27\n",
      "2018-12-04  1668.40  48.42  275.33  114.30\n",
      "2018-12-03  1772.36  48.52  290.30  115.44\n",
      "\n",
      "[234 rows x 4 columns]\n"
     ]
    }
   ],
   "source": [
    "data=data.iloc[::-1]\n",
    "print(data.round(2))\n"
   ]
  },
  {
   "cell_type": "code",
   "execution_count": 29,
   "metadata": {},
   "outputs": [
    {
     "name": "stdout",
     "output_type": "stream",
     "text": [
      "Symbols     AMZN    KO  NFLX   PEP\n",
      "Date                              \n",
      "2019-11-06   NaN   NaN   NaN   NaN\n",
      "2019-11-05  0.33 -0.72 -0.19 -0.32\n",
      "2019-11-04  0.16  1.37  1.68  0.86\n",
      "2019-11-01 -0.73  1.43 -2.07  1.31\n",
      "2019-10-31 -0.83  0.98  0.21  0.18\n",
      "2019-10-30  0.19 -0.90  1.41 -0.20\n",
      "2019-10-29 -0.97 -0.98 -3.51 -0.60\n",
      "2019-10-28  0.82  0.30  0.23  0.36\n",
      "2019-10-25 -0.89  0.34 -1.79  0.05\n",
      "2019-10-24  1.10  1.60 -1.92  0.91\n",
      "2019-10-23 -1.05  0.05 -0.08 -0.32\n",
      "2019-10-22  0.20 -1.45 -1.69 -0.57\n",
      "2019-10-21  1.13  0.71  4.26 -0.40\n",
      "2019-10-18 -1.58  1.01 -0.99  0.10\n",
      "2019-10-17  1.71 -1.81  6.56  0.52\n",
      "2019-10-16 -0.56 -0.56 -2.41 -0.39\n",
      "2019-10-15 -0.57  0.04 -0.71 -0.07\n",
      "2019-10-14 -1.75 -0.39  0.45  0.82\n",
      "2019-10-11 -0.26  0.00 -0.91  0.14\n",
      "2019-10-10 -0.67  0.68 -0.87  0.18\n",
      "2019-10-09  0.10  0.32 -4.62 -0.03\n",
      "2019-10-08 -0.96 -0.46  1.19 -0.44\n",
      "2019-10-07  1.59  0.54  1.38  0.80\n",
      "2019-10-04  0.40  1.24 -0.61  1.40\n",
      "2019-10-03 -0.88 -1.28 -1.70 -1.68\n",
      "2019-10-02 -0.65 -1.41 -0.04 -2.89\n",
      "2019-10-01  1.31  2.96  0.58  2.56\n",
      "2019-09-30  0.01 -0.38 -0.73 -0.20\n",
      "2019-09-27 -0.60 -0.24 -1.70 -1.09\n",
      "2019-09-26  0.83  0.15  0.09  0.09\n",
      "...          ...   ...   ...   ...\n",
      "2019-01-16 -0.56 -0.30 -0.51 -0.81\n",
      "2019-01-15 -0.55  1.39  0.92  0.60\n",
      "2019-01-14 -3.42 -0.88 -6.12 -1.53\n",
      "2019-01-11  1.44  0.40  1.40  0.78\n",
      "2019-01-10  0.95 -0.57 -3.83 -0.01\n",
      "2019-01-09  0.19 -1.06 -1.45 -0.61\n",
      "2019-01-08 -0.17  1.95  0.10  2.87\n",
      "2019-01-07 -1.63 -1.12 -1.54 -0.95\n",
      "2019-01-04 -3.32  1.32 -5.64  0.87\n",
      "2019-01-03 -4.77 -1.96 -8.86 -2.01\n",
      "2019-01-02  2.59  0.62 -1.31  0.94\n",
      "2018-12-31 -2.41  0.89  0.00  1.10\n",
      "2018-12-28 -1.59 -0.32 -4.33 -0.11\n",
      "2018-12-27 -1.11  0.70 -0.20 -0.85\n",
      "2018-12-26  0.63 -1.24 -0.74 -1.00\n",
      "2018-12-24 -8.63 -2.09 -7.80 -2.12\n",
      "2018-12-21  2.49  3.50  5.35  3.20\n",
      "2018-12-20  6.05 -0.06  5.76  0.72\n",
      "2018-12-19  2.34  0.76  2.38 -0.15\n",
      "2018-12-18  3.77  0.88  1.56  1.64\n",
      "2018-12-17 -1.97  0.02 -3.00  0.92\n",
      "2018-12-14  4.67  2.09  1.54  0.96\n",
      "2018-12-13  4.18  0.26  3.44  3.86\n",
      "2018-12-12  0.31 -0.51 -0.41 -1.14\n",
      "2018-12-11 -1.22  0.65 -3.48  0.25\n",
      "2018-12-10 -0.13 -0.61  1.65 -0.94\n",
      "2018-12-07 -0.73 -0.30 -1.69 -0.32\n",
      "2018-12-06  4.30  0.59  6.69  0.88\n",
      "2018-12-04 -1.81  0.41 -2.67  0.03\n",
      "2018-12-03  6.23  0.22  5.44  1.00\n",
      "\n",
      "[234 rows x 4 columns]\n"
     ]
    }
   ],
   "source": [
    "stock_ret = data.pct_change()\n",
    "print (stock_ret.round(4)*100)"
   ]
  },
  {
   "cell_type": "code",
   "execution_count": 36,
   "metadata": {},
   "outputs": [
    {
     "name": "stdout",
     "output_type": "stream",
     "text": [
      "Symbols\n",
      "AMZN    0.000101\n",
      "KO     -0.000296\n",
      "NFLX    0.000319\n",
      "PEP    -0.000606\n",
      "dtype: float64\n",
      "Symbols      AMZN        KO      NFLX       PEP\n",
      "Symbols                                        \n",
      "AMZN     0.000316  0.000048  0.000273  0.000070\n",
      "KO       0.000048  0.000134  0.000031  0.000069\n",
      "NFLX     0.000273  0.000031  0.000593  0.000060\n",
      "PEP      0.000070  0.000069  0.000060  0.000095\n"
     ]
    }
   ],
   "source": [
    "mean_returns = stock_ret.mean()\n",
    "cov_matrix = stock_ret.cov()\n",
    "print (mean_returns)\n",
    "print (cov_matrix)"
   ]
  },
  {
   "cell_type": "code",
   "execution_count": 37,
   "metadata": {},
   "outputs": [],
   "source": [
    "num_iterations = 10000\n",
    "simulation_res = np.zeros((4+len(stock)-1,num_iterations))\n"
   ]
  },
  {
   "cell_type": "code",
   "execution_count": 38,
   "metadata": {},
   "outputs": [],
   "source": [
    "for i in range(num_iterations):\n",
    "        weights = np.array(np.random.random(4))\n",
    "        weights /= np.sum(weights)\n",
    "        portfolio_return = np.sum(mean_returns * weights)\n",
    "        portfolio_std_dev = np.sqrt(np.dot(weights.T,np.dot(cov_matrix, weights)))\n",
    "        simulation_res[0,i] = portfolio_return\n",
    "        simulation_res[1,i] = portfolio_std_dev\n",
    "        simulation_res[2,i] = simulation_res[0,i] / simulation_res[1,i]\n",
    "        for j in range(len(weights)):\n",
    "                simulation_res[j+3,i] = weights[j]"
   ]
  },
  {
   "cell_type": "code",
   "execution_count": 39,
   "metadata": {},
   "outputs": [
    {
     "data": {
      "text/html": [
       "<div>\n",
       "<style scoped>\n",
       "    .dataframe tbody tr th:only-of-type {\n",
       "        vertical-align: middle;\n",
       "    }\n",
       "\n",
       "    .dataframe tbody tr th {\n",
       "        vertical-align: top;\n",
       "    }\n",
       "\n",
       "    .dataframe thead th {\n",
       "        text-align: right;\n",
       "    }\n",
       "</style>\n",
       "<table border=\"1\" class=\"dataframe\">\n",
       "  <thead>\n",
       "    <tr style=\"text-align: right;\">\n",
       "      <th></th>\n",
       "      <th>ret</th>\n",
       "      <th>stdev</th>\n",
       "      <th>sharpe</th>\n",
       "      <th>KO</th>\n",
       "      <th>PEP</th>\n",
       "      <th>NFLX</th>\n",
       "      <th>AMZN</th>\n",
       "    </tr>\n",
       "  </thead>\n",
       "  <tbody>\n",
       "    <tr>\n",
       "      <th>9995</th>\n",
       "      <td>-0.000294</td>\n",
       "      <td>0.010940</td>\n",
       "      <td>-0.026851</td>\n",
       "      <td>0.205915</td>\n",
       "      <td>0.000798</td>\n",
       "      <td>0.179935</td>\n",
       "      <td>0.613352</td>\n",
       "    </tr>\n",
       "    <tr>\n",
       "      <th>9996</th>\n",
       "      <td>-0.000350</td>\n",
       "      <td>0.010336</td>\n",
       "      <td>-0.033872</td>\n",
       "      <td>0.306843</td>\n",
       "      <td>0.029476</td>\n",
       "      <td>0.032379</td>\n",
       "      <td>0.631303</td>\n",
       "    </tr>\n",
       "    <tr>\n",
       "      <th>9997</th>\n",
       "      <td>0.000096</td>\n",
       "      <td>0.017110</td>\n",
       "      <td>0.005597</td>\n",
       "      <td>0.894247</td>\n",
       "      <td>0.022555</td>\n",
       "      <td>0.067808</td>\n",
       "      <td>0.015390</td>\n",
       "    </tr>\n",
       "    <tr>\n",
       "      <th>9998</th>\n",
       "      <td>-0.000105</td>\n",
       "      <td>0.012640</td>\n",
       "      <td>-0.008286</td>\n",
       "      <td>0.042958</td>\n",
       "      <td>0.300503</td>\n",
       "      <td>0.408306</td>\n",
       "      <td>0.248232</td>\n",
       "    </tr>\n",
       "    <tr>\n",
       "      <th>9999</th>\n",
       "      <td>-0.000003</td>\n",
       "      <td>0.013511</td>\n",
       "      <td>-0.000246</td>\n",
       "      <td>0.349598</td>\n",
       "      <td>0.258845</td>\n",
       "      <td>0.297629</td>\n",
       "      <td>0.093928</td>\n",
       "    </tr>\n",
       "  </tbody>\n",
       "</table>\n",
       "</div>"
      ],
      "text/plain": [
       "           ret     stdev    sharpe        KO       PEP      NFLX      AMZN\n",
       "9995 -0.000294  0.010940 -0.026851  0.205915  0.000798  0.179935  0.613352\n",
       "9996 -0.000350  0.010336 -0.033872  0.306843  0.029476  0.032379  0.631303\n",
       "9997  0.000096  0.017110  0.005597  0.894247  0.022555  0.067808  0.015390\n",
       "9998 -0.000105  0.012640 -0.008286  0.042958  0.300503  0.408306  0.248232\n",
       "9999 -0.000003  0.013511 -0.000246  0.349598  0.258845  0.297629  0.093928"
      ]
     },
     "execution_count": 39,
     "metadata": {},
     "output_type": "execute_result"
    }
   ],
   "source": [
    "sim_frame = pd.DataFrame(simulation_res.T,columns=['ret','stdev','sharpe',stock[0],stock[1],stock[2],stock[3]])\n",
    "sim_frame.head (5)\n",
    "sim_frame.tail (5)"
   ]
  },
  {
   "cell_type": "code",
   "execution_count": 40,
   "metadata": {
    "scrolled": true
   },
   "outputs": [
    {
     "name": "stdout",
     "output_type": "stream",
     "text": [
      "Portafolio maximizado sharpe:\n",
      " ret       0.000298\n",
      "stdev     0.023461\n",
      "sharpe    0.012705\n",
      "KO        0.046649\n",
      "PEP       0.002214\n",
      "NFLX      0.940527\n",
      "AMZN      0.010610\n",
      "Name: 5350, dtype: float64\n",
      "Portafolio para minimo riesgo:\n",
      " ret      -0.000440\n",
      "stdev     0.009218\n",
      "sharpe   -0.047776\n",
      "KO        0.039768\n",
      "PEP       0.303027\n",
      "NFLX      0.047231\n",
      "AMZN      0.609973\n",
      "Name: 3135, dtype: float64\n"
     ]
    }
   ],
   "source": [
    "max_sharpe = sim_frame.iloc[sim_frame['sharpe'].idxmax()]\n",
    "min_std = sim_frame.iloc[sim_frame['stdev'].idxmin()]\n",
    "print(\"Portafolio maximizado sharpe:\\n\", max_sharpe)\n",
    "print (\"Portafolio para minimo riesgo:\\n\", min_std)"
   ]
  },
  {
   "cell_type": "code",
   "execution_count": 43,
   "metadata": {},
   "outputs": [
    {
     "data": {
      "image/png": "[encoded data removed]",
      "text/plain": [
       "<Figure size 432x288 with 1 Axes>"
      ]
     },
     "metadata": {
      "needs_background": "light"
     },
     "output_type": "display_data"
    }
   ],
   "source": [
    "plt.scatter(sim_frame.stdev,sim_frame.ret,c=sim_frame.sharpe,cmap='RdYlBu')\n",
    "plt.xlabel('Standard Deviation')\n",
    "plt.ylabel('Returns')\n",
    "plt.ylim(0,.5)\n",
    "plt.xlim(0,.5)\n",
    "plt.scatter(max_sharpe[1],max_sharpe[0],marker=(5,1,0),color='r',s=600)\n",
    "plt.scatter(min_std[1],min_std[0],marker=(5,1,0),color='b',s=600)\n",
    "plt.show()"
   ]
  }
 ],
 "metadata": {
  "kernelspec": {
   "display_name": "Python 3",
   "language": "python",
   "name": "python3"
  },
  "language_info": {
   "codemirror_mode": {
    "name": "ipython",
    "version": 3
   },
   "file_extension": ".py",
   "mimetype": "text/x-python",
   "name": "python",
   "nbconvert_exporter": "python",
   "pygments_lexer": "ipython3",
   "version": "3.7.3"
  }
 },
 "nbformat": 4,
 "nbformat_minor": 2
}
